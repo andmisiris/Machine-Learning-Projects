{
 "cells": [
  {
   "cell_type": "markdown",
   "id": "d7b66e1b",
   "metadata": {},
   "source": [
    "This is a machine learning notebook on the MNIST Dataset."
   ]
  },
  {
   "cell_type": "code",
   "execution_count": 1,
   "id": "47b8980f",
   "metadata": {},
   "outputs": [],
   "source": [
    "from keras.datasets import mnist"
   ]
  },
  {
   "cell_type": "markdown",
   "id": "606d7dfd",
   "metadata": {},
   "source": [
    "More about this dataset can be found on this link: http://yann.lecun.com/exdb/mnist/"
   ]
  },
  {
   "cell_type": "markdown",
   "id": "3caedbd7",
   "metadata": {},
   "source": [
    "Let's now import some important libraries."
   ]
  },
  {
   "cell_type": "code",
   "execution_count": 24,
   "id": "a5dfbe1c",
   "metadata": {},
   "outputs": [],
   "source": [
    "import warnings\n",
    "warnings.filterwarnings('ignore')\n",
    "\n",
    "import pandas as pd\n",
    "import numpy as np\n",
    "import seaborn as sns\n",
    "from sklearn.model_selection import train_test_split\n",
    "import matplotlib.pyplot as plt\n",
    "\n",
    "from keras.utils import plot_model, to_categorical\n",
    "from keras.models import Sequential\n",
    "from keras.layers import Dense, Dropout, Flatten, Conv2D, MaxPool2D, BatchNormalization\n",
    "from keras.optimizers import RMSprop, Adam, SGD\n",
    "from keras.preprocessing.image import ImageDataGenerator\n",
    "from sklearn.metrics import classification_report"
   ]
  },
  {
   "cell_type": "code",
   "execution_count": 11,
   "id": "aa835fb5",
   "metadata": {},
   "outputs": [
    {
     "name": "stdout",
     "output_type": "stream",
     "text": [
      "Please provide your Kaggle credentials to download this dataset. Learn more: http://bit.ly/kaggle-creds\n",
      "Your Kaggle username: andreasmisiris\n",
      "Your Kaggle Key: ········\n",
      "Downloading digit-recognizer.zip to .\\digit-recognizer\n"
     ]
    },
    {
     "name": "stderr",
     "output_type": "stream",
     "text": [
      "100%|█████████████████████████████████████████████████████████████████████████████| 15.3M/15.3M [00:11<00:00, 1.45MB/s]\n"
     ]
    },
    {
     "name": "stdout",
     "output_type": "stream",
     "text": [
      "\n",
      "Extracting archive .\\digit-recognizer/digit-recognizer.zip to .\\digit-recognizer\n"
     ]
    }
   ],
   "source": [
    "import opendatasets as od\n",
    "\n",
    "od.download('https://www.kaggle.com/competitions/digit-recognizer/data?select=test.csv')"
   ]
  },
  {
   "cell_type": "code",
   "execution_count": 3,
   "id": "a7a0bee4",
   "metadata": {},
   "outputs": [],
   "source": [
    "train = pd.read_csv('digit-recognizer/train.csv')\n",
    "test = pd.read_csv('digit-recognizer/test.csv')"
   ]
  },
  {
   "cell_type": "code",
   "execution_count": 4,
   "id": "827a2159",
   "metadata": {},
   "outputs": [],
   "source": [
    "Y_train = train[\"label\"]\n",
    "X_train = train.drop(labels=[\"label\"], axis=1)"
   ]
  },
  {
   "cell_type": "markdown",
   "id": "8ed83b9b",
   "metadata": {},
   "source": [
    "Let's take a look at our training data!"
   ]
  },
  {
   "cell_type": "code",
   "execution_count": 5,
   "id": "93287df3",
   "metadata": {},
   "outputs": [
    {
     "data": {
      "text/plain": [
       "<Axes: xlabel='label', ylabel='count'>"
      ]
     },
     "execution_count": 5,
     "metadata": {},
     "output_type": "execute_result"
    },
    {
     "data": {
      "image/png": "[encoded data removed]",
      "text/plain": [
       "<Figure size 640x480 with 1 Axes>"
      ]
     },
     "metadata": {},
     "output_type": "display_data"
    }
   ],
   "source": [
    "sns.countplot(data = train, x = 'label')"
   ]
  },
  {
   "cell_type": "markdown",
   "id": "2c0ff264",
   "metadata": {},
   "source": [
    "It's almost a balanced datasets, as we can see."
   ]
  },
  {
   "cell_type": "code",
   "execution_count": 6,
   "id": "b1f57502-f3c3-4631-8591-bc8353a7eb19",
   "metadata": {},
   "outputs": [],
   "source": [
    "(x_train1, y_train1), (x_test1, y_test1) = mnist.load_data()\n",
    "\n",
    "train1 = np.concatenate([x_train1, x_test1], axis=0)\n",
    "y_train1 = np.concatenate([y_train1, y_test1], axis=0)\n",
    "\n",
    "Y_train1 = y_train1\n",
    "X_train1 = train1.reshape(-1, 28 * 28)"
   ]
  },
  {
   "cell_type": "markdown",
   "id": "7cf41f25-6098-44d5-95cd-d94075c36ef3",
   "metadata": {},
   "source": [
    "More data is always better for our models. We can merge the two datasets to create more data."
   ]
  },
  {
   "cell_type": "code",
   "execution_count": 7,
   "id": "77b8ff35",
   "metadata": {},
   "outputs": [],
   "source": [
    "# Normalization\n",
    "X_train = X_train / 255.0\n",
    "X_test = test / 255.0\n",
    "\n",
    "X_train1 = X_train1 / 255.0"
   ]
  },
  {
   "cell_type": "code",
   "execution_count": 8,
   "id": "9b3da05f-f226-432b-b722-596c07218c43",
   "metadata": {},
   "outputs": [],
   "source": [
    "X_train = np.concatenate((X_train, X_train1))\n",
    "Y_train = np.concatenate((Y_train, Y_train1))"
   ]
  },
  {
   "cell_type": "code",
   "execution_count": 9,
   "id": "58c9a530-38da-4942-b93a-b5f16553ff29",
   "metadata": {},
   "outputs": [],
   "source": [
    "X_train = X_train.reshape(-1, 28, 28, 1)\n",
    "X_test = X_test.values.reshape(-1, 28, 28, 1)"
   ]
  },
  {
   "cell_type": "code",
   "execution_count": 10,
   "id": "7763081e",
   "metadata": {},
   "outputs": [],
   "source": [
    "Y_train = to_categorical(Y_train, num_classes=10)"
   ]
  },
  {
   "cell_type": "code",
   "execution_count": 11,
   "id": "39d2febe",
   "metadata": {},
   "outputs": [
    {
     "data": {
      "text/plain": [
       "array([[0., 1., 0., ..., 0., 0., 0.],\n",
       "       [1., 0., 0., ..., 0., 0., 0.],\n",
       "       [0., 1., 0., ..., 0., 0., 0.],\n",
       "       ...,\n",
       "       [0., 0., 0., ..., 0., 0., 0.],\n",
       "       [0., 0., 0., ..., 0., 0., 0.],\n",
       "       [0., 0., 0., ..., 0., 0., 0.]], dtype=float32)"
      ]
     },
     "execution_count": 11,
     "metadata": {},
     "output_type": "execute_result"
    }
   ],
   "source": [
    "Y_train"
   ]
  },
  {
   "cell_type": "code",
   "execution_count": 12,
   "id": "695d31b1-0215-40a1-b5ec-c6cbd1a3faff",
   "metadata": {},
   "outputs": [
    {
     "data": {
      "text/plain": [
       "(112000, 28, 28, 1)"
      ]
     },
     "execution_count": 12,
     "metadata": {},
     "output_type": "execute_result"
    }
   ],
   "source": [
    "X_train.shape"
   ]
  },
  {
   "cell_type": "code",
   "execution_count": 13,
   "id": "5514ea0a-3ee0-487c-921c-8d4ef72629ea",
   "metadata": {},
   "outputs": [
    {
     "data": {
      "text/plain": [
       "(112000, 10)"
      ]
     },
     "execution_count": 13,
     "metadata": {},
     "output_type": "execute_result"
    }
   ],
   "source": [
    "Y_train.shape"
   ]
  },
  {
   "cell_type": "markdown",
   "id": "8ba63c56",
   "metadata": {},
   "source": [
    "Split the train dataset into train and validation data."
   ]
  },
  {
   "cell_type": "code",
   "execution_count": 14,
   "id": "fcf4e93f",
   "metadata": {},
   "outputs": [],
   "source": [
    "X_train, X_val, Y_train, Y_val = train_test_split(X_train, Y_train, test_size=0.1, random_state=2)"
   ]
  },
  {
   "cell_type": "code",
   "execution_count": 15,
   "id": "b8ed3528",
   "metadata": {},
   "outputs": [
    {
     "data": {
      "text/plain": [
       "((100800, 28, 28, 1), (11200, 28, 28, 1), (100800, 10), (11200, 10))"
      ]
     },
     "execution_count": 15,
     "metadata": {},
     "output_type": "execute_result"
    }
   ],
   "source": [
    "X_train.shape, X_val.shape, Y_train.shape, Y_val.shape"
   ]
  },
  {
   "cell_type": "markdown",
   "id": "bec6d531",
   "metadata": {},
   "source": [
    "# Convolutional Neural Networks (CNN)"
   ]
  },
  {
   "cell_type": "markdown",
   "id": "a3a86ad1",
   "metadata": {},
   "source": [
    "A convolutional neural network (CNN), is a network architecture for deep learning which learns directly from data. CNNs are particularly useful for finding patterns in images to recognize objects. They can also be quite effective for classifying non-image data such as audio, time series, and signal data."
   ]
  },
  {
   "cell_type": "code",
   "execution_count": 16,
   "id": "a5681d06",
   "metadata": {},
   "outputs": [],
   "source": [
    "import tensorflow as tf"
   ]
  },
  {
   "cell_type": "code",
   "execution_count": 17,
   "id": "cb92c185",
   "metadata": {},
   "outputs": [],
   "source": [
    "tf.keras.backend.clear_session()\n",
    "\n",
    "model = Sequential()\n",
    "model.add(Conv2D(filters=64, kernel_size=(5, 5), padding='Same', activation='relu', input_shape=(28, 28, 1)))\n",
    "model.add(BatchNormalization())\n",
    "\n",
    "model.add(Conv2D(filters=64, kernel_size=(5, 5), padding='Same', activation='relu'))\n",
    "model.add(BatchNormalization())\n",
    "\n",
    "model.add(MaxPool2D(pool_size=(2, 2)))\n",
    "model.add(Dropout(0.25))\n",
    "\n",
    "model.add(Conv2D(filters=64, kernel_size=(3, 3), padding='Same', activation='relu'))\n",
    "model.add(BatchNormalization())\n",
    "\n",
    "model.add(Conv2D(filters=64, kernel_size=(3, 3), padding='Same', activation='relu'))\n",
    "model.add(BatchNormalization())\n",
    "model.add(MaxPool2D(pool_size=(2, 2), strides=(2, 2)))\n",
    "model.add(Dropout(0.25))\n",
    "\n",
    "model.add(Conv2D(filters=64, kernel_size=(3, 3), padding='Same',  activation='relu'))\n",
    "model.add(BatchNormalization())\n",
    "model.add(Dropout(0.25))\n",
    "\n",
    "model.add(Flatten())\n",
    "model.add(Dense(256, activation='relu'))\n",
    "model.add(BatchNormalization())\n",
    "model.add(Dropout(0.25))\n",
    "\n",
    "model.add(Dense(10, activation ='softmax'))"
   ]
  },
  {
   "cell_type": "code",
   "execution_count": 18,
   "id": "827abd21-5d2e-4107-8762-2197f99857e6",
   "metadata": {},
   "outputs": [],
   "source": [
    "model.compile(optimizer='adam', loss='categorical_crossentropy', metrics=['accuracy'])"
   ]
  },
  {
   "cell_type": "code",
   "execution_count": 20,
   "id": "77e13995-34f2-4487-94c1-10685404e2f6",
   "metadata": {},
   "outputs": [],
   "source": [
    "batch_size = 128\n",
    "\n",
    "datagen = ImageDataGenerator(\n",
    "        rotation_range=10,\n",
    "        zoom_range=0.10,\n",
    "        width_shift_range=0.1,\n",
    "        height_shift_range=0.1)\n",
    "\n",
    "train_gen = datagen.flow(X_train, Y_train, batch_size=batch_size)"
   ]
  },
  {
   "cell_type": "markdown",
   "id": "07359502-eced-48dd-8fa5-3201c72dc592",
   "metadata": {},
   "source": [
    "# Model training!"
   ]
  },
  {
   "cell_type": "code",
   "execution_count": 21,
   "id": "95a713c5-ff04-4f43-834a-73e327b1aef2",
   "metadata": {},
   "outputs": [
    {
     "name": "stdout",
     "output_type": "stream",
     "text": [
      "Epoch 1/10\n",
      "788/788 - 24s - loss: 0.1623 - accuracy: 0.9498 - val_loss: 0.0325 - val_accuracy: 0.9888 - 24s/epoch - 30ms/step\n",
      "Epoch 2/10\n",
      "788/788 - 18s - loss: 0.0550 - accuracy: 0.9829 - val_loss: 0.0372 - val_accuracy: 0.9876 - 18s/epoch - 23ms/step\n",
      "Epoch 3/10\n",
      "788/788 - 18s - loss: 0.0410 - accuracy: 0.9875 - val_loss: 0.0173 - val_accuracy: 0.9940 - 18s/epoch - 22ms/step\n",
      "Epoch 4/10\n",
      "788/788 - 18s - loss: 0.0376 - accuracy: 0.9887 - val_loss: 0.0234 - val_accuracy: 0.9928 - 18s/epoch - 22ms/step\n",
      "Epoch 5/10\n",
      "788/788 - 18s - loss: 0.0330 - accuracy: 0.9895 - val_loss: 0.0215 - val_accuracy: 0.9929 - 18s/epoch - 22ms/step\n",
      "Epoch 6/10\n",
      "788/788 - 18s - loss: 0.0309 - accuracy: 0.9902 - val_loss: 0.0247 - val_accuracy: 0.9921 - 18s/epoch - 23ms/step\n",
      "Epoch 7/10\n",
      "788/788 - 18s - loss: 0.0288 - accuracy: 0.9911 - val_loss: 0.0224 - val_accuracy: 0.9934 - 18s/epoch - 23ms/step\n",
      "Epoch 8/10\n",
      "788/788 - 18s - loss: 0.0267 - accuracy: 0.9917 - val_loss: 0.0132 - val_accuracy: 0.9960 - 18s/epoch - 22ms/step\n",
      "Epoch 9/10\n",
      "788/788 - 18s - loss: 0.0233 - accuracy: 0.9928 - val_loss: 0.0173 - val_accuracy: 0.9940 - 18s/epoch - 23ms/step\n",
      "Epoch 10/10\n",
      "788/788 - 18s - loss: 0.0236 - accuracy: 0.9929 - val_loss: 0.0128 - val_accuracy: 0.9961 - 18s/epoch - 22ms/step\n"
     ]
    }
   ],
   "source": [
    "epochs = 10\n",
    "\n",
    "history = model.fit(train_gen, epochs=epochs, validation_data = (X_val, Y_val), verbose=2)"
   ]
  },
  {
   "cell_type": "code",
   "execution_count": 22,
   "id": "71947824-3806-4d8c-9582-e917e3fd2649",
   "metadata": {},
   "outputs": [
    {
     "data": {
      "image/png": "[encoded data removed]",
      "text/plain": [
       "<Figure size 640x480 with 2 Axes>"
      ]
     },
     "metadata": {},
     "output_type": "display_data"
    }
   ],
   "source": [
    "fig, ax = plt.subplots(2,1)\n",
    "ax[0].plot(history.history['loss'], color='b', label=\"Training loss\")\n",
    "ax[0].plot(history.history['val_loss'], color='r', label=\"validation loss\",axes =ax[0])\n",
    "legend = ax[0].legend(loc='best', shadow=True)\n",
    "\n",
    "ax[1].plot(history.history['accuracy'], color='b', label=\"Training accuracy\")\n",
    "ax[1].plot(history.history['val_accuracy'], color='r',label=\"Validation accuracy\")\n",
    "legend = ax[1].legend(loc='best', shadow=True)"
   ]
  },
  {
   "cell_type": "code",
   "execution_count": 23,
   "id": "a8127748-c7f4-4e20-a7e3-42ccc98930a4",
   "metadata": {},
   "outputs": [
    {
     "name": "stdout",
     "output_type": "stream",
     "text": [
      "875/875 [==============================] - 2s 2ms/step\n"
     ]
    }
   ],
   "source": [
    "result = np.zeros((X_test.shape[0], 10)) \n",
    "\n",
    "result = model.predict(X_test)\n",
    "result = np.argmax(result, axis=1)\n",
    "result = pd.Series(result, name=\"Label\")\n",
    "submission = pd.concat([pd.Series(range(1, 28001), name=\"ImageId\"), result], axis=1)\n",
    "submission.to_csv(\"predictions.csv\", index=False)"
   ]
  }
 ],
 "metadata": {
  "kernelspec": {
   "display_name": "tf",
   "language": "python",
   "name": "tf"
  },
  "language_info": {
   "codemirror_mode": {
    "name": "ipython",
    "version": 3
   },
   "file_extension": ".py",
   "mimetype": "text/x-python",
   "name": "python",
   "nbconvert_exporter": "python",
   "pygments_lexer": "ipython3",
   "version": "3.9.17"
  }
 },
 "nbformat": 4,
 "nbformat_minor": 5
}
